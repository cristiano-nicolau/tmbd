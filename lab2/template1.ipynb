{
 "cells": [
  {
   "cell_type": "code",
   "execution_count": null,
   "metadata": {},
   "outputs": [],
   "source": [
    "import random\n",
    "\n",
    "stream = [random.randint(1, 100) for i in range(20)]\n",
    "\n",
    "class Base:\n",
    "    stream = []\n",
    "    results ={}\n",
    "    x = 0\n",
    "\n",
    "    def alg(self):\n",
    "        \n",
    "\n",
    "    def verify(self):\n",
    "        pass\n",
    "\n",
    "class Stream(Base):\n",
    "    def __init__(self, stream):\n",
    "        self.stream = stream\n",
    "        self.exec()\n",
    "        self.verify/()\n",
    "\n",
    "    def exec(self):\n",
    "        for value in self.stream:\n",
    "            self.x=value\n",
    "            self.alg()\n",
    "        print(self.results)\n"
   ]
  }
 ],
 "metadata": {
  "language_info": {
   "name": "python"
  }
 },
 "nbformat": 4,
 "nbformat_minor": 2
}
