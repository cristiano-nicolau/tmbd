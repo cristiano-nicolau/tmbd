{
 "cells": [
  {
   "cell_type": "code",
   "execution_count": 15,
   "metadata": {},
   "outputs": [
    {
     "data": {
      "text/plain": [
       "{1: 3}"
      ]
     },
     "execution_count": 15,
     "metadata": {},
     "output_type": "execute_result"
    }
   ],
   "source": [
    "S = [1,1,2,3,4,5,1,1,1,5,3,3,1,1,2]\n",
    "\n",
    "D = {}\n",
    "\n",
    "k=3\n",
    "\n",
    "for a in S:\n",
    "    if a in D:\n",
    "        D[a] += 1\n",
    "    elif len(D) < k-1:\n",
    "        D[a] = 1\n",
    "    else:\n",
    "        for key in list(D.keys()):\n",
    "            D[key] -= 1\n",
    "            if D[key] == 0:\n",
    "                del D[key]\n",
    "\n",
    "D"
   ]
  },
  {
   "cell_type": "code",
   "execution_count": 19,
   "metadata": {},
   "outputs": [],
   "source": [
    "import random\n",
    "from collections import Counter\n",
    "\n",
    "def misra_gries(S, k=3):\n",
    "    # Inicializa o dicionário de candidatos\n",
    "    D = {}\n",
    "    \n",
    "    # Processa cada elemento do stream\n",
    "    for i, a in enumerate(S):\n",
    "        print(f\"Processando elemento {a} (posição {i+1} no stream)\")\n",
    "        \n",
    "        # Se o elemento já está no dicionário, incrementa o contador\n",
    "        if a in D:\n",
    "            D[a] += 1\n",
    "        # Se o dicionário não está cheio, adiciona o novo elemento com contador 1\n",
    "        elif len(D) < k-1:\n",
    "            D[a] = 1\n",
    "        # Se o dicionário está cheio, decrementa todos os contadores\n",
    "        else:\n",
    "            for key in list(D.keys()):\n",
    "                D[key] -= 1\n",
    "                if D[key] == 0:\n",
    "                    del D[key]\n",
    "        \n",
    "        # Mostra o estado atual do dicionário após cada iteração\n",
    "        print(f\"Estado atual do dicionário: {D}\\n\")\n",
    "    \n",
    "    return D\n"
   ]
  },
  {
   "cell_type": "code",
   "execution_count": 34,
   "metadata": {},
   "outputs": [
    {
     "name": "stdout",
     "output_type": "stream",
     "text": [
      "Stream gerado: [10, 10, 3, 8, 2, 1, 9, 2, 8, 2]\n",
      "\n",
      "Processando elemento 10 (posição 1 no stream)\n",
      "Estado atual do dicionário: {10: 1}\n",
      "\n",
      "Processando elemento 10 (posição 2 no stream)\n",
      "Estado atual do dicionário: {10: 2}\n",
      "\n",
      "Processando elemento 3 (posição 3 no stream)\n",
      "Estado atual do dicionário: {10: 2, 3: 1}\n",
      "\n",
      "Processando elemento 8 (posição 4 no stream)\n",
      "Estado atual do dicionário: {10: 1}\n",
      "\n",
      "Processando elemento 2 (posição 5 no stream)\n",
      "Estado atual do dicionário: {10: 1, 2: 1}\n",
      "\n",
      "Processando elemento 1 (posição 6 no stream)\n",
      "Estado atual do dicionário: {}\n",
      "\n",
      "Processando elemento 9 (posição 7 no stream)\n",
      "Estado atual do dicionário: {9: 1}\n",
      "\n",
      "Processando elemento 2 (posição 8 no stream)\n",
      "Estado atual do dicionário: {9: 1, 2: 1}\n",
      "\n",
      "Processando elemento 8 (posição 9 no stream)\n",
      "Estado atual do dicionário: {}\n",
      "\n",
      "Processando elemento 2 (posição 10 no stream)\n",
      "Estado atual do dicionário: {2: 1}\n",
      "\n",
      "\n",
      "Resultado final do dicionário de candidatos: {2: 1}\n",
      "\n",
      "Contagem exata dos elementos no stream: Counter({2: 3, 10: 2, 8: 2, 3: 1, 1: 1, 9: 1})\n",
      "\n"
     ]
    }
   ],
   "source": [
    "S = [random.randint(1,10) for _ in range(10)]\n",
    "print(f\"Stream gerado: {S}\\n\")\n",
    "\n",
    "# Aplica o algoritmo Misra-Gries\n",
    "k = 3\n",
    "\n",
    "resultado = misra_gries(S, k)\n",
    "\n",
    "# Mostra o dicionário final\n",
    "print(f\"\\nResultado final do dicionário de candidatos: {resultado}\\n\")\n",
    "\n",
    "# Contagem exata dos elementos no stream para comparação\n",
    "contagem_exata = Counter(S)\n",
    "print(f\"Contagem exata dos elementos no stream: {contagem_exata}\\n\")\n"
   ]
  }
 ],
 "metadata": {
  "kernelspec": {
   "display_name": "base",
   "language": "python",
   "name": "python3"
  },
  "language_info": {
   "codemirror_mode": {
    "name": "ipython",
    "version": 3
   },
   "file_extension": ".py",
   "mimetype": "text/x-python",
   "name": "python",
   "nbconvert_exporter": "python",
   "pygments_lexer": "ipython3",
   "version": "3.12.4"
  }
 },
 "nbformat": 4,
 "nbformat_minor": 2
}
